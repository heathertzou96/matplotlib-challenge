{
 "cells": [
  {
   "cell_type": "markdown",
   "metadata": {},
   "source": [
    "## Observations and Insights"
   ]
  },
  {
   "cell_type": "markdown",
   "metadata": {},
   "source": []
  },
  {
   "cell_type": "markdown",
   "metadata": {},
   "source": [
    "## Dependencies and starter code"
   ]
  },
  {
   "cell_type": "code",
   "execution_count": 1,
   "metadata": {},
   "outputs": [
    {
     "data": {
      "text/html": [
       "<div>\n",
       "<style scoped>\n",
       "    .dataframe tbody tr th:only-of-type {\n",
       "        vertical-align: middle;\n",
       "    }\n",
       "\n",
       "    .dataframe tbody tr th {\n",
       "        vertical-align: top;\n",
       "    }\n",
       "\n",
       "    .dataframe thead th {\n",
       "        text-align: right;\n",
       "    }\n",
       "</style>\n",
       "<table border=\"1\" class=\"dataframe\">\n",
       "  <thead>\n",
       "    <tr style=\"text-align: right;\">\n",
       "      <th></th>\n",
       "      <th>Mouse ID</th>\n",
       "      <th>Drug Regimen</th>\n",
       "      <th>Sex</th>\n",
       "      <th>Age_months</th>\n",
       "      <th>Weight (g)</th>\n",
       "      <th>Timepoint</th>\n",
       "      <th>Tumor Volume (mm3)</th>\n",
       "      <th>Metastatic Sites</th>\n",
       "    </tr>\n",
       "  </thead>\n",
       "  <tbody>\n",
       "    <tr>\n",
       "      <td>0</td>\n",
       "      <td>k403</td>\n",
       "      <td>Ramicane</td>\n",
       "      <td>Male</td>\n",
       "      <td>21</td>\n",
       "      <td>16</td>\n",
       "      <td>0</td>\n",
       "      <td>45.000000</td>\n",
       "      <td>0</td>\n",
       "    </tr>\n",
       "    <tr>\n",
       "      <td>1</td>\n",
       "      <td>k403</td>\n",
       "      <td>Ramicane</td>\n",
       "      <td>Male</td>\n",
       "      <td>21</td>\n",
       "      <td>16</td>\n",
       "      <td>5</td>\n",
       "      <td>38.825898</td>\n",
       "      <td>0</td>\n",
       "    </tr>\n",
       "    <tr>\n",
       "      <td>2</td>\n",
       "      <td>k403</td>\n",
       "      <td>Ramicane</td>\n",
       "      <td>Male</td>\n",
       "      <td>21</td>\n",
       "      <td>16</td>\n",
       "      <td>10</td>\n",
       "      <td>35.014271</td>\n",
       "      <td>1</td>\n",
       "    </tr>\n",
       "    <tr>\n",
       "      <td>3</td>\n",
       "      <td>k403</td>\n",
       "      <td>Ramicane</td>\n",
       "      <td>Male</td>\n",
       "      <td>21</td>\n",
       "      <td>16</td>\n",
       "      <td>15</td>\n",
       "      <td>34.223992</td>\n",
       "      <td>1</td>\n",
       "    </tr>\n",
       "    <tr>\n",
       "      <td>4</td>\n",
       "      <td>k403</td>\n",
       "      <td>Ramicane</td>\n",
       "      <td>Male</td>\n",
       "      <td>21</td>\n",
       "      <td>16</td>\n",
       "      <td>20</td>\n",
       "      <td>32.997729</td>\n",
       "      <td>1</td>\n",
       "    </tr>\n",
       "    <tr>\n",
       "      <td>...</td>\n",
       "      <td>...</td>\n",
       "      <td>...</td>\n",
       "      <td>...</td>\n",
       "      <td>...</td>\n",
       "      <td>...</td>\n",
       "      <td>...</td>\n",
       "      <td>...</td>\n",
       "      <td>...</td>\n",
       "    </tr>\n",
       "    <tr>\n",
       "      <td>1888</td>\n",
       "      <td>z969</td>\n",
       "      <td>Naftisol</td>\n",
       "      <td>Male</td>\n",
       "      <td>9</td>\n",
       "      <td>30</td>\n",
       "      <td>25</td>\n",
       "      <td>63.145652</td>\n",
       "      <td>2</td>\n",
       "    </tr>\n",
       "    <tr>\n",
       "      <td>1889</td>\n",
       "      <td>z969</td>\n",
       "      <td>Naftisol</td>\n",
       "      <td>Male</td>\n",
       "      <td>9</td>\n",
       "      <td>30</td>\n",
       "      <td>30</td>\n",
       "      <td>65.841013</td>\n",
       "      <td>3</td>\n",
       "    </tr>\n",
       "    <tr>\n",
       "      <td>1890</td>\n",
       "      <td>z969</td>\n",
       "      <td>Naftisol</td>\n",
       "      <td>Male</td>\n",
       "      <td>9</td>\n",
       "      <td>30</td>\n",
       "      <td>35</td>\n",
       "      <td>69.176246</td>\n",
       "      <td>4</td>\n",
       "    </tr>\n",
       "    <tr>\n",
       "      <td>1891</td>\n",
       "      <td>z969</td>\n",
       "      <td>Naftisol</td>\n",
       "      <td>Male</td>\n",
       "      <td>9</td>\n",
       "      <td>30</td>\n",
       "      <td>40</td>\n",
       "      <td>70.314904</td>\n",
       "      <td>4</td>\n",
       "    </tr>\n",
       "    <tr>\n",
       "      <td>1892</td>\n",
       "      <td>z969</td>\n",
       "      <td>Naftisol</td>\n",
       "      <td>Male</td>\n",
       "      <td>9</td>\n",
       "      <td>30</td>\n",
       "      <td>45</td>\n",
       "      <td>73.867845</td>\n",
       "      <td>4</td>\n",
       "    </tr>\n",
       "  </tbody>\n",
       "</table>\n",
       "<p>1893 rows × 8 columns</p>\n",
       "</div>"
      ],
      "text/plain": [
       "     Mouse ID Drug Regimen   Sex  Age_months  Weight (g)  Timepoint  \\\n",
       "0        k403     Ramicane  Male          21          16          0   \n",
       "1        k403     Ramicane  Male          21          16          5   \n",
       "2        k403     Ramicane  Male          21          16         10   \n",
       "3        k403     Ramicane  Male          21          16         15   \n",
       "4        k403     Ramicane  Male          21          16         20   \n",
       "...       ...          ...   ...         ...         ...        ...   \n",
       "1888     z969     Naftisol  Male           9          30         25   \n",
       "1889     z969     Naftisol  Male           9          30         30   \n",
       "1890     z969     Naftisol  Male           9          30         35   \n",
       "1891     z969     Naftisol  Male           9          30         40   \n",
       "1892     z969     Naftisol  Male           9          30         45   \n",
       "\n",
       "      Tumor Volume (mm3)  Metastatic Sites  \n",
       "0              45.000000                 0  \n",
       "1              38.825898                 0  \n",
       "2              35.014271                 1  \n",
       "3              34.223992                 1  \n",
       "4              32.997729                 1  \n",
       "...                  ...               ...  \n",
       "1888           63.145652                 2  \n",
       "1889           65.841013                 3  \n",
       "1890           69.176246                 4  \n",
       "1891           70.314904                 4  \n",
       "1892           73.867845                 4  \n",
       "\n",
       "[1893 rows x 8 columns]"
      ]
     },
     "execution_count": 1,
     "metadata": {},
     "output_type": "execute_result"
    }
   ],
   "source": [
    "# Dependencies and Setup\n",
    "import matplotlib.pyplot as plt\n",
    "import pandas as pd\n",
    "import scipy.stats as st\n",
    "import numpy as np\n",
    "\n",
    "# Study data files\n",
    "mouse_metadata = \"Resources/Mouse_metadata.csv\"\n",
    "study_results = \"Resources/Study_results.csv\"\n",
    "\n",
    "# Read the mouse data and the study results\n",
    "mouse_metadata = pd.read_csv(mouse_metadata)\n",
    "study_results = pd.read_csv(study_results)\n",
    "\n",
    "# Combine the data into a single dataset\n",
    "merge_df = pd.merge(mouse_metadata, study_results, on = \"Mouse ID\", how = \"outer\")\n",
    "merge_df"
   ]
  },
  {
   "cell_type": "markdown",
   "metadata": {},
   "source": [
    "## Summary statistics"
   ]
  },
  {
   "cell_type": "code",
   "execution_count": 2,
   "metadata": {},
   "outputs": [
    {
     "data": {
      "text/html": [
       "<div>\n",
       "<style scoped>\n",
       "    .dataframe tbody tr th:only-of-type {\n",
       "        vertical-align: middle;\n",
       "    }\n",
       "\n",
       "    .dataframe tbody tr th {\n",
       "        vertical-align: top;\n",
       "    }\n",
       "\n",
       "    .dataframe thead th {\n",
       "        text-align: right;\n",
       "    }\n",
       "</style>\n",
       "<table border=\"1\" class=\"dataframe\">\n",
       "  <thead>\n",
       "    <tr style=\"text-align: right;\">\n",
       "      <th></th>\n",
       "      <th></th>\n",
       "      <th>Capomulin - Tumor Volume (mm3)</th>\n",
       "    </tr>\n",
       "  </thead>\n",
       "  <tbody>\n",
       "    <tr>\n",
       "      <td>0</td>\n",
       "      <td>Mean</td>\n",
       "      <td>40.675741</td>\n",
       "    </tr>\n",
       "    <tr>\n",
       "      <td>1</td>\n",
       "      <td>Median</td>\n",
       "      <td>41.557809</td>\n",
       "    </tr>\n",
       "    <tr>\n",
       "      <td>2</td>\n",
       "      <td>Variance</td>\n",
       "      <td>24.947764</td>\n",
       "    </tr>\n",
       "    <tr>\n",
       "      <td>3</td>\n",
       "      <td>Standard Deviation</td>\n",
       "      <td>4.994774</td>\n",
       "    </tr>\n",
       "    <tr>\n",
       "      <td>4</td>\n",
       "      <td>Sem</td>\n",
       "      <td>0.329346</td>\n",
       "    </tr>\n",
       "  </tbody>\n",
       "</table>\n",
       "</div>"
      ],
      "text/plain": [
       "                       Capomulin - Tumor Volume (mm3)\n",
       "0                Mean                       40.675741\n",
       "1              Median                       41.557809\n",
       "2            Variance                       24.947764\n",
       "3  Standard Deviation                        4.994774\n",
       "4                 Sem                        0.329346"
      ]
     },
     "execution_count": 2,
     "metadata": {},
     "output_type": "execute_result"
    }
   ],
   "source": [
    "# Generate a summary statistics table of mean, median, variance, standard deviation, and SEM of the tumor volume for each regimen\n",
    "merge_df[\"Drug Regimen\"].value_counts()\n",
    "\n",
    "capomulin_df = merge_df.loc[merge_df[\"Drug Regimen\"]== \"Capomulin\"]\n",
    "capomulin_TV = pd.DataFrame(capomulin_df[\"Tumor Volume (mm3)\"])\n",
    "\n",
    "capomulin_mean = capomulin_TV.mean()\n",
    "capomulin_med = capomulin_TV.median()\n",
    "capomulin_var = capomulin_TV.var()\n",
    "capomulin_std = capomulin_TV.std()\n",
    "capomulin_sem = capomulin_TV.sem()\n",
    "\n",
    "capomulin_mean = capomulin_mean[0]\n",
    "capomulin_med = capomulin_med[0]\n",
    "capomulin_var = capomulin_var[0]\n",
    "capomulin_std = capomulin_std[0]\n",
    "capomulin_sem = capomulin_sem[0]\n",
    "\n",
    "capomulin_summary = pd.DataFrame (\n",
    "    {\"\": [\"Mean\", \"Median\", \"Variance\", \"Standard Deviation\", \"Sem\"],\n",
    "     \"Capomulin - Tumor Volume (mm3)\" : [capomulin_mean, capomulin_med, capomulin_var, capomulin_std, capomulin_sem]\n",
    "    }\n",
    ")\n",
    "capomulin_summary"
   ]
  },
  {
   "cell_type": "code",
   "execution_count": 3,
   "metadata": {},
   "outputs": [
    {
     "data": {
      "text/html": [
       "<div>\n",
       "<style scoped>\n",
       "    .dataframe tbody tr th:only-of-type {\n",
       "        vertical-align: middle;\n",
       "    }\n",
       "\n",
       "    .dataframe tbody tr th {\n",
       "        vertical-align: top;\n",
       "    }\n",
       "\n",
       "    .dataframe thead th {\n",
       "        text-align: right;\n",
       "    }\n",
       "</style>\n",
       "<table border=\"1\" class=\"dataframe\">\n",
       "  <thead>\n",
       "    <tr style=\"text-align: right;\">\n",
       "      <th></th>\n",
       "      <th></th>\n",
       "      <th>Ramicane - Tumor Volume (mm3)</th>\n",
       "    </tr>\n",
       "  </thead>\n",
       "  <tbody>\n",
       "    <tr>\n",
       "      <td>0</td>\n",
       "      <td>Mean</td>\n",
       "      <td>40.216745</td>\n",
       "    </tr>\n",
       "    <tr>\n",
       "      <td>1</td>\n",
       "      <td>Median</td>\n",
       "      <td>40.673236</td>\n",
       "    </tr>\n",
       "    <tr>\n",
       "      <td>2</td>\n",
       "      <td>Variance</td>\n",
       "      <td>23.486704</td>\n",
       "    </tr>\n",
       "    <tr>\n",
       "      <td>3</td>\n",
       "      <td>Standard Deviation</td>\n",
       "      <td>4.846308</td>\n",
       "    </tr>\n",
       "    <tr>\n",
       "      <td>4</td>\n",
       "      <td>Sem</td>\n",
       "      <td>0.320955</td>\n",
       "    </tr>\n",
       "  </tbody>\n",
       "</table>\n",
       "</div>"
      ],
      "text/plain": [
       "                       Ramicane - Tumor Volume (mm3)\n",
       "0                Mean                      40.216745\n",
       "1              Median                      40.673236\n",
       "2            Variance                      23.486704\n",
       "3  Standard Deviation                       4.846308\n",
       "4                 Sem                       0.320955"
      ]
     },
     "execution_count": 3,
     "metadata": {},
     "output_type": "execute_result"
    }
   ],
   "source": [
    "ramicane_df = merge_df.loc[merge_df[\"Drug Regimen\"]== \"Ramicane\"]\n",
    "ramicane_TV = pd.DataFrame(ramicane_df[\"Tumor Volume (mm3)\"])\n",
    "\n",
    "ramicane_mean = ramicane_TV.mean()\n",
    "ramicane_med = ramicane_TV.median()\n",
    "ramicane_var = ramicane_TV.var()\n",
    "ramicane_std = ramicane_TV.std()\n",
    "ramicane_sem = ramicane_TV.sem()\n",
    "\n",
    "ramicane_mean = ramicane_mean[0]\n",
    "ramicane_med = ramicane_med[0]\n",
    "ramicane_var = ramicane_var[0]\n",
    "ramicane_std = ramicane_std[0]\n",
    "ramicane_sem = ramicane_sem[0]\n",
    "\n",
    "ramicane_summary = pd.DataFrame (\n",
    "    {\"\": [\"Mean\", \"Median\", \"Variance\", \"Standard Deviation\", \"Sem\"],\n",
    "     \"Ramicane - Tumor Volume (mm3)\" : [ramicane_mean, ramicane_med, ramicane_var, ramicane_std, ramicane_sem]\n",
    "    }\n",
    ")\n",
    "ramicane_summary"
   ]
  },
  {
   "cell_type": "code",
   "execution_count": 4,
   "metadata": {},
   "outputs": [
    {
     "data": {
      "text/html": [
       "<div>\n",
       "<style scoped>\n",
       "    .dataframe tbody tr th:only-of-type {\n",
       "        vertical-align: middle;\n",
       "    }\n",
       "\n",
       "    .dataframe tbody tr th {\n",
       "        vertical-align: top;\n",
       "    }\n",
       "\n",
       "    .dataframe thead th {\n",
       "        text-align: right;\n",
       "    }\n",
       "</style>\n",
       "<table border=\"1\" class=\"dataframe\">\n",
       "  <thead>\n",
       "    <tr style=\"text-align: right;\">\n",
       "      <th></th>\n",
       "      <th></th>\n",
       "      <th>Ketapril - Tumor Volume (mm3)</th>\n",
       "    </tr>\n",
       "  </thead>\n",
       "  <tbody>\n",
       "    <tr>\n",
       "      <td>0</td>\n",
       "      <td>Mean</td>\n",
       "      <td>55.235638</td>\n",
       "    </tr>\n",
       "    <tr>\n",
       "      <td>1</td>\n",
       "      <td>Median</td>\n",
       "      <td>53.698743</td>\n",
       "    </tr>\n",
       "    <tr>\n",
       "      <td>2</td>\n",
       "      <td>Variance</td>\n",
       "      <td>68.553577</td>\n",
       "    </tr>\n",
       "    <tr>\n",
       "      <td>3</td>\n",
       "      <td>Standard Deviation</td>\n",
       "      <td>8.279709</td>\n",
       "    </tr>\n",
       "    <tr>\n",
       "      <td>4</td>\n",
       "      <td>Sem</td>\n",
       "      <td>0.603860</td>\n",
       "    </tr>\n",
       "  </tbody>\n",
       "</table>\n",
       "</div>"
      ],
      "text/plain": [
       "                       Ketapril - Tumor Volume (mm3)\n",
       "0                Mean                      55.235638\n",
       "1              Median                      53.698743\n",
       "2            Variance                      68.553577\n",
       "3  Standard Deviation                       8.279709\n",
       "4                 Sem                       0.603860"
      ]
     },
     "execution_count": 4,
     "metadata": {},
     "output_type": "execute_result"
    }
   ],
   "source": [
    "ketapril_df = merge_df.loc[merge_df[\"Drug Regimen\"]== \"Ketapril\"]\n",
    "ketapril_TV = pd.DataFrame(ketapril_df[\"Tumor Volume (mm3)\"])\n",
    "\n",
    "ketapril_mean = ketapril_TV.mean()\n",
    "ketapril_med = ketapril_TV.median()\n",
    "ketapril_var = ketapril_TV.var()\n",
    "ketapril_std = ketapril_TV.std()\n",
    "ketapril_sem = ketapril_TV.sem()\n",
    "\n",
    "ketapril_mean = ketapril_mean[0]\n",
    "ketapril_med = ketapril_med[0]\n",
    "ketapril_var = ketapril_var[0]\n",
    "ketapril_std = ketapril_std[0]\n",
    "ketapril_sem = ketapril_sem[0]\n",
    "\n",
    "ketapril_summary = pd.DataFrame (\n",
    "    {\"\": [\"Mean\", \"Median\", \"Variance\", \"Standard Deviation\", \"Sem\"],\n",
    "     \"Ketapril - Tumor Volume (mm3)\" : [ketapril_mean, ketapril_med, ketapril_var, ketapril_std, ketapril_sem]\n",
    "    }\n",
    ")\n",
    "ketapril_summary"
   ]
  },
  {
   "cell_type": "code",
   "execution_count": 5,
   "metadata": {},
   "outputs": [
    {
     "data": {
      "text/html": [
       "<div>\n",
       "<style scoped>\n",
       "    .dataframe tbody tr th:only-of-type {\n",
       "        vertical-align: middle;\n",
       "    }\n",
       "\n",
       "    .dataframe tbody tr th {\n",
       "        vertical-align: top;\n",
       "    }\n",
       "\n",
       "    .dataframe thead th {\n",
       "        text-align: right;\n",
       "    }\n",
       "</style>\n",
       "<table border=\"1\" class=\"dataframe\">\n",
       "  <thead>\n",
       "    <tr style=\"text-align: right;\">\n",
       "      <th></th>\n",
       "      <th></th>\n",
       "      <th>Naftisol - Tumor Volume (mm3)</th>\n",
       "    </tr>\n",
       "  </thead>\n",
       "  <tbody>\n",
       "    <tr>\n",
       "      <td>0</td>\n",
       "      <td>Mean</td>\n",
       "      <td>54.331565</td>\n",
       "    </tr>\n",
       "    <tr>\n",
       "      <td>1</td>\n",
       "      <td>Median</td>\n",
       "      <td>52.509285</td>\n",
       "    </tr>\n",
       "    <tr>\n",
       "      <td>2</td>\n",
       "      <td>Variance</td>\n",
       "      <td>66.173479</td>\n",
       "    </tr>\n",
       "    <tr>\n",
       "      <td>3</td>\n",
       "      <td>Standard Deviation</td>\n",
       "      <td>8.134708</td>\n",
       "    </tr>\n",
       "    <tr>\n",
       "      <td>4</td>\n",
       "      <td>Sem</td>\n",
       "      <td>0.596466</td>\n",
       "    </tr>\n",
       "  </tbody>\n",
       "</table>\n",
       "</div>"
      ],
      "text/plain": [
       "                       Naftisol - Tumor Volume (mm3)\n",
       "0                Mean                      54.331565\n",
       "1              Median                      52.509285\n",
       "2            Variance                      66.173479\n",
       "3  Standard Deviation                       8.134708\n",
       "4                 Sem                       0.596466"
      ]
     },
     "execution_count": 5,
     "metadata": {},
     "output_type": "execute_result"
    }
   ],
   "source": [
    "naftisol_df = merge_df.loc[merge_df[\"Drug Regimen\"]== \"Naftisol\"]\n",
    "naftisol_TV = pd.DataFrame(naftisol_df[\"Tumor Volume (mm3)\"])\n",
    "\n",
    "naftisol_mean = naftisol_TV.mean()\n",
    "naftisol_med = naftisol_TV.median()\n",
    "naftisol_var = naftisol_TV.var()\n",
    "naftisol_std = naftisol_TV.std()\n",
    "naftisol_sem = naftisol_TV.sem()\n",
    "\n",
    "naftisol_mean = naftisol_mean[0]\n",
    "naftisol_med = naftisol_med[0]\n",
    "naftisol_var = naftisol_var[0]\n",
    "naftisol_std = naftisol_std[0]\n",
    "naftisol_sem = naftisol_sem[0]\n",
    "\n",
    "naftisol_summary = pd.DataFrame (\n",
    "    {\"\": [\"Mean\", \"Median\", \"Variance\", \"Standard Deviation\", \"Sem\"],\n",
    "     \"Naftisol - Tumor Volume (mm3)\" : [naftisol_mean, naftisol_med, naftisol_var, naftisol_std, naftisol_sem]\n",
    "    }\n",
    ")\n",
    "naftisol_summary"
   ]
  },
  {
   "cell_type": "code",
   "execution_count": 6,
   "metadata": {},
   "outputs": [
    {
     "data": {
      "text/html": [
       "<div>\n",
       "<style scoped>\n",
       "    .dataframe tbody tr th:only-of-type {\n",
       "        vertical-align: middle;\n",
       "    }\n",
       "\n",
       "    .dataframe tbody tr th {\n",
       "        vertical-align: top;\n",
       "    }\n",
       "\n",
       "    .dataframe thead th {\n",
       "        text-align: right;\n",
       "    }\n",
       "</style>\n",
       "<table border=\"1\" class=\"dataframe\">\n",
       "  <thead>\n",
       "    <tr style=\"text-align: right;\">\n",
       "      <th></th>\n",
       "      <th></th>\n",
       "      <th>Zoniferol - Tumor Volume (mm3)</th>\n",
       "    </tr>\n",
       "  </thead>\n",
       "  <tbody>\n",
       "    <tr>\n",
       "      <td>0</td>\n",
       "      <td>Mean</td>\n",
       "      <td>53.236507</td>\n",
       "    </tr>\n",
       "    <tr>\n",
       "      <td>1</td>\n",
       "      <td>Median</td>\n",
       "      <td>51.818479</td>\n",
       "    </tr>\n",
       "    <tr>\n",
       "      <td>2</td>\n",
       "      <td>Variance</td>\n",
       "      <td>48.533355</td>\n",
       "    </tr>\n",
       "    <tr>\n",
       "      <td>3</td>\n",
       "      <td>Standard Deviation</td>\n",
       "      <td>6.966589</td>\n",
       "    </tr>\n",
       "    <tr>\n",
       "      <td>4</td>\n",
       "      <td>Sem</td>\n",
       "      <td>0.516398</td>\n",
       "    </tr>\n",
       "  </tbody>\n",
       "</table>\n",
       "</div>"
      ],
      "text/plain": [
       "                       Zoniferol - Tumor Volume (mm3)\n",
       "0                Mean                       53.236507\n",
       "1              Median                       51.818479\n",
       "2            Variance                       48.533355\n",
       "3  Standard Deviation                        6.966589\n",
       "4                 Sem                        0.516398"
      ]
     },
     "execution_count": 6,
     "metadata": {},
     "output_type": "execute_result"
    }
   ],
   "source": [
    "zoniferol_df = merge_df.loc[merge_df[\"Drug Regimen\"]== \"Zoniferol\"]\n",
    "zoniferol_TV = pd.DataFrame(zoniferol_df[\"Tumor Volume (mm3)\"])\n",
    "\n",
    "zoniferol_mean = zoniferol_TV.mean()\n",
    "zoniferol_med = zoniferol_TV.median()\n",
    "zoniferol_var = zoniferol_TV.var()\n",
    "zoniferol_std = zoniferol_TV.std()\n",
    "zoniferol_sem = zoniferol_TV.sem()\n",
    "\n",
    "zoniferol_mean = zoniferol_mean[0]\n",
    "zoniferol_med = zoniferol_med[0]\n",
    "zoniferol_var = zoniferol_var[0]\n",
    "zoniferol_std = zoniferol_std[0]\n",
    "zoniferol_sem = zoniferol_sem[0]\n",
    "\n",
    "zoniferol_summary = pd.DataFrame (\n",
    "    {\"\": [\"Mean\", \"Median\", \"Variance\", \"Standard Deviation\", \"Sem\"],\n",
    "     \"Zoniferol - Tumor Volume (mm3)\" : [zoniferol_mean, zoniferol_med, zoniferol_var, zoniferol_std, zoniferol_sem]\n",
    "    }\n",
    ")\n",
    "zoniferol_summary"
   ]
  },
  {
   "cell_type": "code",
   "execution_count": 7,
   "metadata": {},
   "outputs": [
    {
     "data": {
      "text/html": [
       "<div>\n",
       "<style scoped>\n",
       "    .dataframe tbody tr th:only-of-type {\n",
       "        vertical-align: middle;\n",
       "    }\n",
       "\n",
       "    .dataframe tbody tr th {\n",
       "        vertical-align: top;\n",
       "    }\n",
       "\n",
       "    .dataframe thead th {\n",
       "        text-align: right;\n",
       "    }\n",
       "</style>\n",
       "<table border=\"1\" class=\"dataframe\">\n",
       "  <thead>\n",
       "    <tr style=\"text-align: right;\">\n",
       "      <th></th>\n",
       "      <th></th>\n",
       "      <th>Stelasyn - Tumor Volume (mm3)</th>\n",
       "    </tr>\n",
       "  </thead>\n",
       "  <tbody>\n",
       "    <tr>\n",
       "      <td>0</td>\n",
       "      <td>Mean</td>\n",
       "      <td>54.233149</td>\n",
       "    </tr>\n",
       "    <tr>\n",
       "      <td>1</td>\n",
       "      <td>Median</td>\n",
       "      <td>52.431737</td>\n",
       "    </tr>\n",
       "    <tr>\n",
       "      <td>2</td>\n",
       "      <td>Variance</td>\n",
       "      <td>59.450562</td>\n",
       "    </tr>\n",
       "    <tr>\n",
       "      <td>3</td>\n",
       "      <td>Standard Deviation</td>\n",
       "      <td>7.710419</td>\n",
       "    </tr>\n",
       "    <tr>\n",
       "      <td>4</td>\n",
       "      <td>Sem</td>\n",
       "      <td>0.573111</td>\n",
       "    </tr>\n",
       "  </tbody>\n",
       "</table>\n",
       "</div>"
      ],
      "text/plain": [
       "                       Stelasyn - Tumor Volume (mm3)\n",
       "0                Mean                      54.233149\n",
       "1              Median                      52.431737\n",
       "2            Variance                      59.450562\n",
       "3  Standard Deviation                       7.710419\n",
       "4                 Sem                       0.573111"
      ]
     },
     "execution_count": 7,
     "metadata": {},
     "output_type": "execute_result"
    }
   ],
   "source": [
    "stelasyn_df = merge_df.loc[merge_df[\"Drug Regimen\"]== \"Stelasyn\"]\n",
    "stelasyn_TV = pd.DataFrame(stelasyn_df[\"Tumor Volume (mm3)\"])\n",
    "\n",
    "stelasyn_mean = stelasyn_TV.mean()\n",
    "stelasyn_med = stelasyn_TV.median()\n",
    "stelasyn_var = stelasyn_TV.var()\n",
    "stelasyn_std = stelasyn_TV.std()\n",
    "stelasyn_sem = stelasyn_TV.sem()\n",
    "\n",
    "stelasyn_mean = stelasyn_mean[0]\n",
    "stelasyn_med = stelasyn_med[0]\n",
    "stelasyn_var = stelasyn_var[0]\n",
    "stelasyn_std = stelasyn_std[0]\n",
    "stelasyn_sem = stelasyn_sem[0]\n",
    "\n",
    "stelasyn_summary = pd.DataFrame (\n",
    "    {\"\": [\"Mean\", \"Median\", \"Variance\", \"Standard Deviation\", \"Sem\"],\n",
    "     \"Stelasyn - Tumor Volume (mm3)\" : [stelasyn_mean, stelasyn_med, stelasyn_var, stelasyn_std, stelasyn_sem]\n",
    "    }\n",
    ")\n",
    "stelasyn_summary"
   ]
  },
  {
   "cell_type": "code",
   "execution_count": 8,
   "metadata": {},
   "outputs": [
    {
     "data": {
      "text/html": [
       "<div>\n",
       "<style scoped>\n",
       "    .dataframe tbody tr th:only-of-type {\n",
       "        vertical-align: middle;\n",
       "    }\n",
       "\n",
       "    .dataframe tbody tr th {\n",
       "        vertical-align: top;\n",
       "    }\n",
       "\n",
       "    .dataframe thead th {\n",
       "        text-align: right;\n",
       "    }\n",
       "</style>\n",
       "<table border=\"1\" class=\"dataframe\">\n",
       "  <thead>\n",
       "    <tr style=\"text-align: right;\">\n",
       "      <th></th>\n",
       "      <th></th>\n",
       "      <th>Placebo - Tumor Volume (mm3)</th>\n",
       "    </tr>\n",
       "  </thead>\n",
       "  <tbody>\n",
       "    <tr>\n",
       "      <td>0</td>\n",
       "      <td>Mean</td>\n",
       "      <td>54.033581</td>\n",
       "    </tr>\n",
       "    <tr>\n",
       "      <td>1</td>\n",
       "      <td>Median</td>\n",
       "      <td>52.288934</td>\n",
       "    </tr>\n",
       "    <tr>\n",
       "      <td>2</td>\n",
       "      <td>Variance</td>\n",
       "      <td>61.168083</td>\n",
       "    </tr>\n",
       "    <tr>\n",
       "      <td>3</td>\n",
       "      <td>Standard Deviation</td>\n",
       "      <td>7.821003</td>\n",
       "    </tr>\n",
       "    <tr>\n",
       "      <td>4</td>\n",
       "      <td>Sem</td>\n",
       "      <td>0.581331</td>\n",
       "    </tr>\n",
       "  </tbody>\n",
       "</table>\n",
       "</div>"
      ],
      "text/plain": [
       "                       Placebo - Tumor Volume (mm3)\n",
       "0                Mean                     54.033581\n",
       "1              Median                     52.288934\n",
       "2            Variance                     61.168083\n",
       "3  Standard Deviation                      7.821003\n",
       "4                 Sem                      0.581331"
      ]
     },
     "execution_count": 8,
     "metadata": {},
     "output_type": "execute_result"
    }
   ],
   "source": [
    "placebo_df = merge_df.loc[merge_df[\"Drug Regimen\"]== \"Placebo\"]\n",
    "placebo_TV = pd.DataFrame(placebo_df[\"Tumor Volume (mm3)\"])\n",
    "\n",
    "placebo_mean = placebo_TV.mean()\n",
    "placebo_med = placebo_TV.median()\n",
    "placebo_var = placebo_TV.var()\n",
    "placebo_std = placebo_TV.std()\n",
    "placebo_sem = placebo_TV.sem()\n",
    "\n",
    "placebo_mean = placebo_mean[0]\n",
    "placebo_med = placebo_med[0]\n",
    "placebo_var = placebo_var[0]\n",
    "placebo_std = placebo_std[0]\n",
    "placebo_sem = placebo_sem[0]\n",
    "\n",
    "placebo_summary = pd.DataFrame (\n",
    "    {\"\": [\"Mean\", \"Median\", \"Variance\", \"Standard Deviation\", \"Sem\"],\n",
    "     \"Placebo - Tumor Volume (mm3)\" : [placebo_mean, placebo_med, placebo_var, placebo_std, placebo_sem]\n",
    "    }\n",
    ")\n",
    "placebo_summary"
   ]
  },
  {
   "cell_type": "code",
   "execution_count": 9,
   "metadata": {},
   "outputs": [
    {
     "data": {
      "text/html": [
       "<div>\n",
       "<style scoped>\n",
       "    .dataframe tbody tr th:only-of-type {\n",
       "        vertical-align: middle;\n",
       "    }\n",
       "\n",
       "    .dataframe tbody tr th {\n",
       "        vertical-align: top;\n",
       "    }\n",
       "\n",
       "    .dataframe thead th {\n",
       "        text-align: right;\n",
       "    }\n",
       "</style>\n",
       "<table border=\"1\" class=\"dataframe\">\n",
       "  <thead>\n",
       "    <tr style=\"text-align: right;\">\n",
       "      <th></th>\n",
       "      <th></th>\n",
       "      <th>Infubinol - Tumor Volume (mm3)</th>\n",
       "    </tr>\n",
       "  </thead>\n",
       "  <tbody>\n",
       "    <tr>\n",
       "      <td>0</td>\n",
       "      <td>Mean</td>\n",
       "      <td>52.884795</td>\n",
       "    </tr>\n",
       "    <tr>\n",
       "      <td>1</td>\n",
       "      <td>Median</td>\n",
       "      <td>51.820584</td>\n",
       "    </tr>\n",
       "    <tr>\n",
       "      <td>2</td>\n",
       "      <td>Variance</td>\n",
       "      <td>43.128684</td>\n",
       "    </tr>\n",
       "    <tr>\n",
       "      <td>3</td>\n",
       "      <td>Standard Deviation</td>\n",
       "      <td>6.567243</td>\n",
       "    </tr>\n",
       "    <tr>\n",
       "      <td>4</td>\n",
       "      <td>Sem</td>\n",
       "      <td>0.492236</td>\n",
       "    </tr>\n",
       "  </tbody>\n",
       "</table>\n",
       "</div>"
      ],
      "text/plain": [
       "                       Infubinol - Tumor Volume (mm3)\n",
       "0                Mean                       52.884795\n",
       "1              Median                       51.820584\n",
       "2            Variance                       43.128684\n",
       "3  Standard Deviation                        6.567243\n",
       "4                 Sem                        0.492236"
      ]
     },
     "execution_count": 9,
     "metadata": {},
     "output_type": "execute_result"
    }
   ],
   "source": [
    "infubinol_df = merge_df.loc[merge_df[\"Drug Regimen\"]== \"Infubinol\"]\n",
    "infubinol_TV = pd.DataFrame(infubinol_df[\"Tumor Volume (mm3)\"])\n",
    "\n",
    "infubinol_mean = infubinol_TV.mean()\n",
    "infubinol_med = infubinol_TV.median()\n",
    "infubinol_var = infubinol_TV.var()\n",
    "infubinol_std = infubinol_TV.std()\n",
    "infubinol_sem = infubinol_TV.sem()\n",
    "\n",
    "infubinol_mean = infubinol_mean[0]\n",
    "infubinol_med = infubinol_med[0]\n",
    "infubinol_var = infubinol_var[0]\n",
    "infubinol_std = infubinol_std[0]\n",
    "infubinol_sem = infubinol_sem[0]\n",
    "\n",
    "infubinol_summary = pd.DataFrame (\n",
    "    {\"\": [\"Mean\", \"Median\", \"Variance\", \"Standard Deviation\", \"Sem\"],\n",
    "     \"Infubinol - Tumor Volume (mm3)\" : [infubinol_mean, infubinol_med, infubinol_var, infubinol_std, infubinol_sem]\n",
    "    }\n",
    ")\n",
    "infubinol_summary"
   ]
  },
  {
   "cell_type": "code",
   "execution_count": 10,
   "metadata": {},
   "outputs": [
    {
     "data": {
      "text/html": [
       "<div>\n",
       "<style scoped>\n",
       "    .dataframe tbody tr th:only-of-type {\n",
       "        vertical-align: middle;\n",
       "    }\n",
       "\n",
       "    .dataframe tbody tr th {\n",
       "        vertical-align: top;\n",
       "    }\n",
       "\n",
       "    .dataframe thead th {\n",
       "        text-align: right;\n",
       "    }\n",
       "</style>\n",
       "<table border=\"1\" class=\"dataframe\">\n",
       "  <thead>\n",
       "    <tr style=\"text-align: right;\">\n",
       "      <th></th>\n",
       "      <th></th>\n",
       "      <th>Ceftamin - Tumor Volume (mm3)</th>\n",
       "    </tr>\n",
       "  </thead>\n",
       "  <tbody>\n",
       "    <tr>\n",
       "      <td>0</td>\n",
       "      <td>Mean</td>\n",
       "      <td>52.591172</td>\n",
       "    </tr>\n",
       "    <tr>\n",
       "      <td>1</td>\n",
       "      <td>Median</td>\n",
       "      <td>51.776157</td>\n",
       "    </tr>\n",
       "    <tr>\n",
       "      <td>2</td>\n",
       "      <td>Variance</td>\n",
       "      <td>39.290177</td>\n",
       "    </tr>\n",
       "    <tr>\n",
       "      <td>3</td>\n",
       "      <td>Standard Deviation</td>\n",
       "      <td>6.268188</td>\n",
       "    </tr>\n",
       "    <tr>\n",
       "      <td>4</td>\n",
       "      <td>Sem</td>\n",
       "      <td>0.469821</td>\n",
       "    </tr>\n",
       "  </tbody>\n",
       "</table>\n",
       "</div>"
      ],
      "text/plain": [
       "                       Ceftamin - Tumor Volume (mm3)\n",
       "0                Mean                      52.591172\n",
       "1              Median                      51.776157\n",
       "2            Variance                      39.290177\n",
       "3  Standard Deviation                       6.268188\n",
       "4                 Sem                       0.469821"
      ]
     },
     "execution_count": 10,
     "metadata": {},
     "output_type": "execute_result"
    }
   ],
   "source": [
    "ceftamin_df = merge_df.loc[merge_df[\"Drug Regimen\"]== \"Ceftamin\"]\n",
    "ceftamin_TV = pd.DataFrame(ceftamin_df[\"Tumor Volume (mm3)\"])\n",
    "\n",
    "ceftamin_mean = ceftamin_TV.mean()\n",
    "ceftamin_med = ceftamin_TV.median()\n",
    "ceftamin_var = ceftamin_TV.var()\n",
    "ceftamin_std = ceftamin_TV.std()\n",
    "ceftamin_sem = ceftamin_TV.sem()\n",
    "\n",
    "ceftamin_mean = ceftamin_mean[0]\n",
    "ceftamin_med = ceftamin_med[0]\n",
    "ceftamin_var = ceftamin_var[0]\n",
    "ceftamin_std = ceftamin_std[0]\n",
    "ceftamin_sem = ceftamin_sem[0]\n",
    "\n",
    "ceftamin_summary = pd.DataFrame (\n",
    "    {\"\": [\"Mean\", \"Median\", \"Variance\", \"Standard Deviation\", \"Sem\"],\n",
    "     \"Ceftamin - Tumor Volume (mm3)\" : [ceftamin_mean, ceftamin_med, ceftamin_var, ceftamin_std, ceftamin_sem]\n",
    "    }\n",
    ")\n",
    "ceftamin_summary"
   ]
  },
  {
   "cell_type": "code",
   "execution_count": 11,
   "metadata": {},
   "outputs": [
    {
     "data": {
      "text/html": [
       "<div>\n",
       "<style scoped>\n",
       "    .dataframe tbody tr th:only-of-type {\n",
       "        vertical-align: middle;\n",
       "    }\n",
       "\n",
       "    .dataframe tbody tr th {\n",
       "        vertical-align: top;\n",
       "    }\n",
       "\n",
       "    .dataframe thead th {\n",
       "        text-align: right;\n",
       "    }\n",
       "</style>\n",
       "<table border=\"1\" class=\"dataframe\">\n",
       "  <thead>\n",
       "    <tr style=\"text-align: right;\">\n",
       "      <th></th>\n",
       "      <th></th>\n",
       "      <th>Propriva - Tumor Volume (mm3)</th>\n",
       "    </tr>\n",
       "  </thead>\n",
       "  <tbody>\n",
       "    <tr>\n",
       "      <td>0</td>\n",
       "      <td>Mean</td>\n",
       "      <td>52.322552</td>\n",
       "    </tr>\n",
       "    <tr>\n",
       "      <td>1</td>\n",
       "      <td>Median</td>\n",
       "      <td>50.854632</td>\n",
       "    </tr>\n",
       "    <tr>\n",
       "      <td>2</td>\n",
       "      <td>Variance</td>\n",
       "      <td>42.351070</td>\n",
       "    </tr>\n",
       "    <tr>\n",
       "      <td>3</td>\n",
       "      <td>Standard Deviation</td>\n",
       "      <td>6.507770</td>\n",
       "    </tr>\n",
       "    <tr>\n",
       "      <td>4</td>\n",
       "      <td>Sem</td>\n",
       "      <td>0.512884</td>\n",
       "    </tr>\n",
       "  </tbody>\n",
       "</table>\n",
       "</div>"
      ],
      "text/plain": [
       "                       Propriva - Tumor Volume (mm3)\n",
       "0                Mean                      52.322552\n",
       "1              Median                      50.854632\n",
       "2            Variance                      42.351070\n",
       "3  Standard Deviation                       6.507770\n",
       "4                 Sem                       0.512884"
      ]
     },
     "execution_count": 11,
     "metadata": {},
     "output_type": "execute_result"
    }
   ],
   "source": [
    "propriva_df = merge_df.loc[merge_df[\"Drug Regimen\"]== \"Propriva\"]\n",
    "propriva_TV = pd.DataFrame(propriva_df[\"Tumor Volume (mm3)\"])\n",
    "\n",
    "propriva_mean = propriva_TV.mean()\n",
    "propriva_med = propriva_TV.median()\n",
    "propriva_var = propriva_TV.var()\n",
    "propriva_std = propriva_TV.std()\n",
    "propriva_sem = propriva_TV.sem()\n",
    "\n",
    "propriva_mean = propriva_mean[0]\n",
    "propriva_med = propriva_med[0]\n",
    "propriva_var = propriva_var[0]\n",
    "propriva_std = propriva_std[0]\n",
    "propriva_sem = propriva_sem[0]\n",
    "\n",
    "propriva_summary = pd.DataFrame (\n",
    "    {\"\": [\"Mean\", \"Median\", \"Variance\", \"Standard Deviation\", \"Sem\"],\n",
    "     \"Propriva - Tumor Volume (mm3)\" : [propriva_mean, propriva_med, propriva_var, propriva_std, propriva_sem]\n",
    "    }\n",
    ")\n",
    "propriva_summary"
   ]
  },
  {
   "cell_type": "markdown",
   "metadata": {},
   "source": [
    "## Bar plots"
   ]
  },
  {
   "cell_type": "code",
   "execution_count": 12,
   "metadata": {},
   "outputs": [
    {
     "data": {
      "image/png": "[encoded data removed]",
      "text/plain": [
       "<Figure size 720x288 with 1 Axes>"
      ]
     },
     "metadata": {
      "needs_background": "light"
     },
     "output_type": "display_data"
    }
   ],
   "source": [
    "# Generate a bar plot showing number of data points for each treatment regimen using pandas\n",
    "merge_df[\"Drug Regimen\"].value_counts()\n",
    "drug_regimen = merge_df[\"Drug Regimen\"].value_counts()\n",
    "\n",
    "#plt.figure(figsize=(10,4))\n",
    "drug_regimen.plot(kind = \"bar\", figsize=(10,4))\n",
    "plt.title(\"Number of Each Treatments\")\n",
    "plt.xlabel(\"Treatments\")\n",
    "plt.xticks(rotation= \"45\")\n",
    "plt.show()\n"
   ]
  },
  {
   "cell_type": "code",
   "execution_count": 13,
   "metadata": {},
   "outputs": [
    {
     "data": {
      "image/png": "[encoded data removed]",
      "text/plain": [
       "<Figure size 720x288 with 1 Axes>"
      ]
     },
     "metadata": {
      "needs_background": "light"
     },
     "output_type": "display_data"
    }
   ],
   "source": [
    "# Generate a bar plot showing number of data points for each treatment regimen using pyplot\n",
    "merge_df[\"Drug Regimen\"].value_counts()\n",
    "\n",
    "drugs = [\"Capomulin\", \"Ramicane\", \"Ketapril\", \"Naftisol\", \"Zoniferol\", \"Stelasyn\", \"Placebo\", \"Infubinol\", \"Ceftamin\", \"Propriva\"]\n",
    "\n",
    "drug_regimen = merge_df[\"Drug Regimen\"].value_counts()\n",
    "drug_regimen_numbers = list(drug_regimen)\n",
    "\n",
    "plt.figure(figsize=(10,4))\n",
    "plt.bar(drugs, drug_regimen_numbers, alpha = 0.5, align = \"center\")\n",
    "plt.title(\"Number of Each Treatments\")\n",
    "plt.xlabel(\"Treatments\")\n",
    "plt.xticks(rotation= \"45\")\n",
    "plt.show()"
   ]
  },
  {
   "cell_type": "markdown",
   "metadata": {},
   "source": [
    "## Pie plots"
   ]
  },
  {
   "cell_type": "code",
   "execution_count": 14,
   "metadata": {},
   "outputs": [
    {
     "data": {
      "image/png": "[encoded data removed]",
      "text/plain": [
       "<Figure size 432x288 with 1 Axes>"
      ]
     },
     "metadata": {},
     "output_type": "display_data"
    }
   ],
   "source": [
    "# Generate a pie plot showing the distribution of female versus male mice using pandas\n",
    "merge_df\n",
    "\n",
    "grouped_sex = merge_df.groupby([\"Sex\"])\n",
    "sex_count = grouped_sex[\"Mouse ID\"].nunique()\n",
    "sex_count\n",
    "\n",
    "sex_count.plot(kind = \"pie\")\n",
    "plt.title(\"Distribution of Mice by Sex\")\n",
    "plt.ylabel(\"Number of Mice\")\n",
    "plt.show()\n",
    "\n"
   ]
  },
  {
   "cell_type": "code",
   "execution_count": 15,
   "metadata": {},
   "outputs": [
    {
     "data": {
      "image/png": "[encoded data removed]",
      "text/plain": [
       "<Figure size 432x288 with 1 Axes>"
      ]
     },
     "metadata": {},
     "output_type": "display_data"
    }
   ],
   "source": [
    "# Generate a pie plot showing the distribution of female versus male mice using pyplot\n",
    "sex_count\n",
    "labels = [\"Female\", \"Male\"]\n",
    "sizes = [124, 125]\n",
    "colors = [\"blue\", \"orange\"]\n",
    "\n",
    "plt.pie(sizes, labels = labels, colors = colors)\n",
    "plt.title(\"Distribution of Mice by Sex\")\n",
    "plt.ylabel(\"Number of Mice\")\n",
    "plt.show()\n"
   ]
  },
  {
   "cell_type": "markdown",
   "metadata": {},
   "source": [
    "## Quartiles, outliers and boxplots"
   ]
  },
  {
   "cell_type": "code",
   "execution_count": 41,
   "metadata": {},
   "outputs": [
    {
     "name": "stdout",
     "output_type": "stream",
     "text": [
      "CAPOMULIN:\n",
      "\n",
      "First quartile: 361.82039562\n",
      "Median: 398.87495191\n",
      "Third quartile: 425.07261035000005\n",
      "IQR: 63.25221473000005\n"
     ]
    }
   ],
   "source": [
    "# Calculate the final tumor volume of each mouse across four of the most promising treatment regimens. Calculate the IQR and quantitatively determine if there are any potential outliers.\n",
    "merge_df\n",
    "\n",
    "capomulin_df = merge_df.loc[merge_df[\"Drug Regimen\"]==\"Capomulin\", :]\n",
    "capomulin_df.head()\n",
    "grouped_capomulin = capomulin_df.groupby([\"Mouse ID\"])\n",
    "grouped_capomulin[\"Tumor Volume (mm3)\"].sum()\n",
    "\n",
    "capomulin = list(grouped_capomulin[\"Tumor Volume (mm3)\"].sum())\n",
    "capomulin.sort()\n",
    "\n",
    "capomulin_q1 = np.percentile(capomulin, 25, interpolation = 'midpoint')\n",
    "capomulin_med = np.median(capomulin)\n",
    "capomulin_q3 = np.percentile(capomulin, 75, interpolation = 'midpoint')\n",
    "capomulin_IQR = capomulin_q3 - capomulin_q1\n",
    "\n",
    "print(\"CAPOMULIN:\" \"\\n\")\n",
    "print(f\"First quartile: {capomulin_q1}\")\n",
    "print(f\"Median: {capomulin_med}\")\n",
    "print(f\"Third quartile: {capomulin_q3}\")\n",
    "print(f\"IQR: {capomulin_IQR}\")\n"
   ]
  },
  {
   "cell_type": "code",
   "execution_count": 42,
   "metadata": {},
   "outputs": [
    {
     "name": "stdout",
     "output_type": "stream",
     "text": [
      "RAMICANE:\n",
      "\n",
      "First quartile: 360.50156185\n",
      "Median: 388.07794580999996\n",
      "Third quartile: 407.0138542699999\n",
      "IQR: 46.51229241999994\n"
     ]
    }
   ],
   "source": [
    "ramicane_df = merge_df.loc[merge_df[\"Drug Regimen\"]==\"Ramicane\", :]\n",
    "ramicane_df.head()\n",
    "grouped_ramicane = ramicane_df.groupby([\"Mouse ID\"])\n",
    "grouped_ramicane[\"Tumor Volume (mm3)\"].sum()\n",
    "\n",
    "ramicane = list(grouped_ramicane[\"Tumor Volume (mm3)\"].sum())\n",
    "ramicane.sort()\n",
    "\n",
    "ramicane_q1 = np.percentile(ramicane, 25, interpolation = 'midpoint')\n",
    "ramicane_med = np.median(ramicane)\n",
    "ramicane_q3 = np.percentile(ramicane, 75, interpolation = 'midpoint')\n",
    "ramicane_IQR = ramicane_q3 - ramicane_q1\n",
    "\n",
    "print(\"RAMICANE:\" \"\\n\")\n",
    "print(f\"First quartile: {ramicane_q1}\")\n",
    "print(f\"Median: {ramicane_med}\")\n",
    "print(f\"Third quartile: {ramicane_q3}\")\n",
    "print(f\"IQR: {ramicane_IQR}\")"
   ]
  },
  {
   "cell_type": "code",
   "execution_count": 60,
   "metadata": {},
   "outputs": [
    {
     "name": "stdout",
     "output_type": "stream",
     "text": [
      "INFUBINOL:\n",
      "\n",
      "First quartile: 250.34313264000002\n",
      "Median: 368.77146924\n",
      "Third quartile: 539.7958369400001\n",
      "IQR: 289.45270430000005\n"
     ]
    }
   ],
   "source": [
    "infubinol_df = merge_df.loc[merge_df[\"Drug Regimen\"]==\"Infubinol\", :]\n",
    "infubinol_df.head()\n",
    "grouped_infubinol = infubinol_df.groupby([\"Mouse ID\"])\n",
    "grouped_infubinol[\"Tumor Volume (mm3)\"].sum()\n",
    "\n",
    "infubinol = list(grouped_infubinol[\"Tumor Volume (mm3)\"].sum())\n",
    "infubinol.sort()\n",
    "\n",
    "infubinol_q1 = np.percentile(infubinol, 25, interpolation = 'midpoint')\n",
    "infubinol_med = np.median(infubinol)\n",
    "infubinol_q3 = np.percentile(infubinol, 75, interpolation = 'midpoint')\n",
    "infubinol_IQR = infubinol_q3 - infubinol_q1\n",
    "\n",
    "print(\"INFUBINOL:\" \"\\n\")\n",
    "print(f\"First quartile: {infubinol_q1}\")\n",
    "print(f\"Median: {infubinol_med}\")\n",
    "print(f\"Third quartile: {infubinol_q3}\")\n",
    "print(f\"IQR: {infubinol_IQR}\")"
   ]
  },
  {
   "cell_type": "code",
   "execution_count": 63,
   "metadata": {},
   "outputs": [
    {
     "name": "stdout",
     "output_type": "stream",
     "text": [
      "CEFTAMIN:\n",
      "\n",
      "First quartile: 188.23985302\n",
      "Median: 516.11146932\n",
      "Third quartile: 534.67355232\n",
      "IQR: 346.4336993\n"
     ]
    }
   ],
   "source": [
    "ceftamin_df = merge_df.loc[merge_df[\"Drug Regimen\"]==\"Ceftamin\", :]\n",
    "ceftamin_df.head()\n",
    "grouped_ceftamin = ceftamin_df.groupby([\"Mouse ID\"])\n",
    "grouped_ceftamin[\"Tumor Volume (mm3)\"].sum()\n",
    "\n",
    "ceftamin = list(grouped_ceftamin[\"Tumor Volume (mm3)\"].sum())\n",
    "ceftamin.sort()\n",
    "\n",
    "ceftamin_q1 = np.percentile(ceftamin, 25, interpolation = 'midpoint')\n",
    "ceftamin_med = np.median(ceftamin)\n",
    "ceftamin_q3 = np.percentile(ceftamin, 75, interpolation = 'midpoint')\n",
    "ceftamin_IQR = ceftamin_q3 - ceftamin_q1\n",
    "\n",
    "print(\"CEFTAMIN:\" \"\\n\")\n",
    "print(f\"First quartile: {ceftamin_q1}\")\n",
    "print(f\"Median: {ceftamin_med}\")\n",
    "print(f\"Third quartile: {ceftamin_q3}\")\n",
    "print(f\"IQR: {ceftamin_IQR}\")"
   ]
  },
  {
   "cell_type": "code",
   "execution_count": 61,
   "metadata": {},
   "outputs": [
    {
     "data": {
      "image/png": "[encoded data removed]",
      "text/plain": [
       "<Figure size 432x288 with 1 Axes>"
      ]
     },
     "metadata": {
      "needs_background": "light"
     },
     "output_type": "display_data"
    },
    {
     "data": {
      "image/png": "[encoded data removed]",
      "text/plain": [
       "<Figure size 432x288 with 1 Axes>"
      ]
     },
     "metadata": {
      "needs_background": "light"
     },
     "output_type": "display_data"
    },
    {
     "data": {
      "image/png": "[encoded data removed]",
      "text/plain": [
       "<Figure size 432x288 with 1 Axes>"
      ]
     },
     "metadata": {
      "needs_background": "light"
     },
     "output_type": "display_data"
    },
    {
     "data": {
      "image/png": "[encoded data removed]",
      "text/plain": [
       "<Figure size 432x288 with 1 Axes>"
      ]
     },
     "metadata": {
      "needs_background": "light"
     },
     "output_type": "display_data"
    }
   ],
   "source": [
    "# Generate a box plot of the final tumor volume of each mouse across four regimens of interest\n",
    "capomulin = list(grouped_capomulin[\"Tumor Volume (mm3)\"].sum())\n",
    "\n",
    "ramicane = list(grouped_ramicane[\"Tumor Volume (mm3)\"].sum())\n",
    "\n",
    "infubinol = list(grouped_infubinol[\"Tumor Volume (mm3)\"].sum())\n",
    "\n",
    "ceftamin = list(grouped_ceftamin[\"Tumor Volume (mm3)\"].sum())\n",
    "\n",
    "\n",
    "fig1, ax1 = plt.subplots()\n",
    "fig1, ax2 = plt.subplots()\n",
    "fig1, ax3 = plt.subplots()\n",
    "fig1, ax4 = plt.subplots()\n",
    "ax1.boxplot(capomulin)\n",
    "ax2.boxplot(ramicane)\n",
    "ax3.boxplot(infubinol)\n",
    "ax4.boxplot(ceftamin)\n",
    "\n",
    "plt.show()\n"
   ]
  },
  {
   "cell_type": "markdown",
   "metadata": {},
   "source": [
    "## Line and scatter plots"
   ]
  },
  {
   "cell_type": "code",
   "execution_count": 18,
   "metadata": {},
   "outputs": [],
   "source": [
    "# Generate a line plot of time point versus tumor volume for a mouse treated with Capomulin"
   ]
  },
  {
   "cell_type": "code",
   "execution_count": 19,
   "metadata": {},
   "outputs": [],
   "source": [
    "# Generate a scatter plot of mouse weight versus average tumor volume for the Capomulin regimen"
   ]
  },
  {
   "cell_type": "code",
   "execution_count": 20,
   "metadata": {},
   "outputs": [],
   "source": [
    "# Calculate the correlation coefficient and linear regression model for mouse weight and average tumor volume for the Capomulin regimen"
   ]
  },
  {
   "cell_type": "code",
   "execution_count": null,
   "metadata": {},
   "outputs": [],
   "source": []
  }
 ],
 "metadata": {
  "anaconda-cloud": {},
  "kernelspec": {
   "display_name": "Python 3",
   "language": "python",
   "name": "python3"
  },
  "language_info": {
   "codemirror_mode": {
    "name": "ipython",
    "version": 3
   },
   "file_extension": ".py",
   "mimetype": "text/x-python",
   "name": "python",
   "nbconvert_exporter": "python",
   "pygments_lexer": "ipython3",
   "version": "3.7.4"
  }
 },
 "nbformat": 4,
 "nbformat_minor": 2
}
